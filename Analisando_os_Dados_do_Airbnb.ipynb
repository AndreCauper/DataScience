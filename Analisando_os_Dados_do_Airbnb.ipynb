{
  "nbformat": 4,
  "nbformat_minor": 0,
  "metadata": {
    "colab": {
      "provenance": [],
      "toc_visible": true,
      "include_colab_link": true
    },
    "kernelspec": {
      "name": "python3",
      "display_name": "Python 3"
    }
  },
  "cells": [
    {
      "cell_type": "markdown",
      "metadata": {
        "id": "view-in-github",
        "colab_type": "text"
      },
      "source": [
        "<a href=\"https://colab.research.google.com/github/AndreCauper/DataScience/blob/main/Analisando_os_Dados_do_Airbnb.ipynb\" target=\"_parent\"><img src=\"https://colab.research.google.com/assets/colab-badge.svg\" alt=\"Open In Colab\"/></a>"
      ]
    },
    {
      "cell_type": "markdown",
      "metadata": {
        "id": "kLI0gJtzDGuQ"
      },
      "source": [
        "<img alt=\"Colaboratory logo\" width=\"15%\" src=\"https://raw.githubusercontent.com/carlosfab/escola-data-science/master/img/novo_logo_bg_claro.png\">\n",
        "\n",
        "#### **Data Science na Prática 3.0**\n",
        "*by [sigmoidal.ai](https://sigmoidal.ai)*\n",
        "\n",
        "---\n",
        "\n",
        "# Análise dos Dados do Airbnb - *Tokio*\n",
        "\n",
        "O [Airbnb](https://www.airbnb.com.br/) já é considerado como sendo a **maior empresa hoteleira da atualidade**. Ah, o detalhe é que ele **não possui nenhum hotel**!\n",
        "\n",
        "Conectando pessoas que querem viajar (e se hospedar) com anfitriões que querem alugar seus imóveis de maneira prática, o Airbnb fornece uma plataforma inovadora para tornar essa hospedagem alternativa.\n",
        "\n",
        "No final de 2018, a Startup fundada 10 anos atrás, já havia **hospedado mais de 300 milhões** de pessoas ao redor de todo o mundo, desafiando as redes hoteleiras tradicionais.\n",
        "\n",
        "Uma das iniciativas do Airbnb é disponibilizar dados do site, para algumas das principais cidades do mundo. Por meio do portal [Inside Airbnb](http://insideairbnb.com/get-the-data.html), é possível baixar uma grande quantidade de dados para desenvolver projetos e soluções de *Data Science*.\n",
        "\n",
        "<center><img alt=\"Analisando Airbnb\" width=\"10%\" src=\"https://www.area360.com.au/wp-content/uploads/2017/09/airbnb-logo.jpg\"></center>\n",
        "\n",
        "**Neste *notebook*, iremos analisar os dados referentes à cidade ________, e ver quais insights podem ser extraídos a partir de dados brutos.**"
      ]
    },
    {
      "cell_type": "markdown",
      "metadata": {
        "id": "0zxQHhIUDF_2"
      },
      "source": [
        "## Obtenção dos Dados\n"
      ]
    },
    {
      "cell_type": "code",
      "metadata": {
        "id": "Vhp2wMPgJ6zX"
      },
      "source": [
        "# importar os pacotes necessarios\n",
        "import pandas as pd\n",
        "import matplotlib as plt\n",
        "import seaborn as sn\n",
        "import numpy as np\n",
        "%matplotlib inline"
      ],
      "execution_count": 65,
      "outputs": []
    },
    {
      "cell_type": "code",
      "metadata": {
        "id": "tUmoAT8DLQ5T"
      },
      "source": [
        "# importar o arquivo listings.csv para um DataFrame\n",
        "df = pd.read_csv(\"listings.csv\")\n",
        "ndf = pd.read_csv(\"listings.csv\", index_col=\"minimum_nights\")"
      ],
      "execution_count": 66,
      "outputs": []
    },
    {
      "cell_type": "markdown",
      "metadata": {
        "id": "qb5By2nIMS6m"
      },
      "source": [
        "## Análise dos Dados\n"
      ]
    },
    {
      "cell_type": "markdown",
      "metadata": {
        "id": "RYgvuebKNg8-"
      },
      "source": [
        "**Dicionário das variáveis**\n",
        "\n",
        "* `id` - número de id gerado para identificar o imóvel\n",
        "* `name` - nome da propriedade anunciada\n",
        "* `host_id` - número de id do proprietário (anfitrião) da propriedade\n",
        "* `host_name` - Nome do anfitrião\n",
        "* `neighbourhood_group` - esta coluna não contém nenhum valor válido\n",
        "* `neighbourhood` - nome do bairro\n",
        "* `latitude` - coordenada da latitude da propriedade\n",
        "* `longitude` - coordenada da longitude da propriedade\n",
        "* `room_type` - informa o tipo de quarto que é oferecido\n",
        "* `price` - preço para alugar o imóvel\n",
        "* `minimum_nights` - quantidade mínima de noites para reservar\n",
        "* `number_of_reviews` - número de reviews que a propriedade possui\n",
        "* `last_review` - data do último review\n",
        "* `reviews_per_month` - quantidade de reviews por mês\n",
        "* `calculated_host_listings_count` - quantidade de imóveis do mesmo anfitrião\n",
        "* `availability_365` - número de dias de disponibilidade dentro de 365 dias\n",
        "* ndf = variável utilizada com indice diferente do original\n",
        "* df_corr = matriz de correlação\n",
        "* plot = variável para plotar gráfico heatmap\n",
        "\n",
        "Antes de iniciar qualquer análise, vamos verificar a cara do nosso *dataset*, analisando as 5 primeiras entradas."
      ]
    },
    {
      "cell_type": "code",
      "metadata": {
        "id": "2iS_dae7YQtO"
      },
      "source": [
        "# mostrar as 5 primeiras entradas\n",
        "df.head()"
      ],
      "execution_count": null,
      "outputs": []
    },
    {
      "cell_type": "markdown",
      "source": [
        "### ao analizar a consulta das  primeiras linhas do dataset, notamos **caracteres não latinos** que estão presentes no dataset"
      ],
      "metadata": {
        "id": "BZNgHlKPshr-"
      }
    },
    {
      "cell_type": "markdown",
      "metadata": {
        "id": "6-B_qtEaYEd-"
      },
      "source": [
        "### **Q1. Quantos atributos (variáveis) e quantas entradas o nosso conjunto de dados possui? Quais os tipos das variáveis?**"
      ]
    },
    {
      "cell_type": "code",
      "metadata": {
        "id": "TFRK0tniLV-G",
        "colab": {
          "base_uri": "https://localhost:8080/"
        },
        "outputId": "a0b8e2bf-135c-4800-cf16-48231c543616"
      },
      "source": [
        "# identificar o volume de dados do DataFrame\n",
        "\n",
        "# verificar as 5 primeiras entradas do dataset\n",
        "\n",
        "print(\"volume de dados do DataSet : \", df.shape)\n",
        "print(\"Quantidade de colunas Variáveis no DataSet :\\n\", df.dtypes)"
      ],
      "execution_count": 79,
      "outputs": [
        {
          "output_type": "stream",
          "name": "stdout",
          "text": [
            "volume de dados do DataSet :  (9786, 18)\n",
            "Quantidade de colunas Variáveis no DataSet :\n",
            " id                                  int64\n",
            "name                               object\n",
            "host_id                             int64\n",
            "host_name                          object\n",
            "neighbourhood_group               float64\n",
            "neighbourhood                      object\n",
            "latitude                          float64\n",
            "longitude                         float64\n",
            "room_type                          object\n",
            "price                               int64\n",
            "minimum_nights                      int64\n",
            "number_of_reviews                   int64\n",
            "last_review                        object\n",
            "reviews_per_month                 float64\n",
            "calculated_host_listings_count      int64\n",
            "availability_365                    int64\n",
            "number_of_reviews_ltm               int64\n",
            "license                            object\n",
            "dtype: object\n"
          ]
        }
      ]
    },
    {
      "cell_type": "markdown",
      "metadata": {
        "id": "yz1urSUGW9iE"
      },
      "source": [
        "### **Q2. Qual a porcentagem de valores ausentes no *dataset*?**"
      ]
    },
    {
      "cell_type": "code",
      "metadata": {
        "id": "plk2FjbCXOqP",
        "colab": {
          "base_uri": "https://localhost:8080/"
        },
        "outputId": "102608e3-fb11-4dfb-a441-6e14a4f85efd"
      },
      "source": [
        "# ordenar em ordem decrescente as variáveis por seus valores ausentes\n",
        "print(\"Valores ordenados : \")\n",
        "(df.isnull().sum() / df.shape[0]).sort_values(ascending=False)\n",
        "\n",
        "#ordenando por dordem alfabética\n",
        "#df.sort_index(ascending=True,axis=1).isnull().sum()/df.shape[0]"
      ],
      "execution_count": 124,
      "outputs": [
        {
          "output_type": "stream",
          "name": "stdout",
          "text": [
            "Valores ordenados : \n"
          ]
        },
        {
          "output_type": "execute_result",
          "data": {
            "text/plain": [
              "neighbourhood_group               1.000000\n",
              "reviews_per_month                 0.142653\n",
              "last_review                       0.142653\n",
              "license                           0.002759\n",
              "minimum_nights                    0.000000\n",
              "number_of_reviews_ltm             0.000000\n",
              "availability_365                  0.000000\n",
              "calculated_host_listings_count    0.000000\n",
              "number_of_reviews                 0.000000\n",
              "id                                0.000000\n",
              "name                              0.000000\n",
              "room_type                         0.000000\n",
              "longitude                         0.000000\n",
              "latitude                          0.000000\n",
              "neighbourhood                     0.000000\n",
              "host_name                         0.000000\n",
              "host_id                           0.000000\n",
              "price                             0.000000\n",
              "dtype: float64"
            ]
          },
          "metadata": {},
          "execution_count": 124
        }
      ]
    },
    {
      "cell_type": "markdown",
      "metadata": {
        "id": "iHXvvHIxaoNc"
      },
      "source": [
        "### **Q3. Qual o tipo de distribuição das variáveis?** \n",
        "\n",
        "algumas variáveis são numéricas, mas não possuem significados para histograma. são elas : id, host_id, latitude, longitude "
      ]
    },
    {
      "cell_type": "code",
      "metadata": {
        "id": "q2wWSfeRbmBo",
        "colab": {
          "base_uri": "https://localhost:8080/",
          "height": 812
        },
        "outputId": "68f7d39e-769e-49a9-b827-61c28316d7b2"
      },
      "source": [
        "# plotar o histograma das variáveis numéricas\n",
        "df.hist(bins=15, figsize=(15,10))"
      ],
      "execution_count": 121,
      "outputs": [
        {
          "output_type": "execute_result",
          "data": {
            "text/plain": [
              "array([[<matplotlib.axes._subplots.AxesSubplot object at 0x7fa91c1109a0>,\n",
              "        <matplotlib.axes._subplots.AxesSubplot object at 0x7fa93bdfb1f0>,\n",
              "        <matplotlib.axes._subplots.AxesSubplot object at 0x7fa9280f6640>],\n",
              "       [<matplotlib.axes._subplots.AxesSubplot object at 0x7fa9270d2d60>,\n",
              "        <matplotlib.axes._subplots.AxesSubplot object at 0x7fa926ec44c0>,\n",
              "        <matplotlib.axes._subplots.AxesSubplot object at 0x7fa926eb8b20>],\n",
              "       [<matplotlib.axes._subplots.AxesSubplot object at 0x7fa926eb8c10>,\n",
              "        <matplotlib.axes._subplots.AxesSubplot object at 0x7fa9283b53d0>,\n",
              "        <matplotlib.axes._subplots.AxesSubplot object at 0x7fa926e44370>],\n",
              "       [<matplotlib.axes._subplots.AxesSubplot object at 0x7fa9271e48e0>,\n",
              "        <matplotlib.axes._subplots.AxesSubplot object at 0x7fa9271fe0a0>,\n",
              "        <matplotlib.axes._subplots.AxesSubplot object at 0x7fa927196760>]],\n",
              "      dtype=object)"
            ]
          },
          "metadata": {},
          "execution_count": 121
        },
        {
          "output_type": "display_data",
          "data": {
            "text/plain": [
              "<Figure size 1080x720 with 12 Axes>"
            ],
            "image/png": "[encoded data removed]"
          },
          "metadata": {
            "needs_background": "light"
          }
        }
      ]
    },
    {
      "cell_type": "markdown",
      "source": [
        "### chamando as funções de histograma originalmente, o resultado nos mostra gráficos que não trasmitem algum tipo de informação"
      ],
      "metadata": {
        "id": "g2PzW2kf5VEy"
      }
    },
    {
      "cell_type": "code",
      "source": [
        "# verificando valores com describe\n",
        "\n",
        "df[[\"price\",\"minimum_nights\",\"number_of_reviews\",\"reviews_per_month\",\"calculated_host_listings_count\",\"availability_365\"]].describe()/1000000"
      ],
      "metadata": {
        "id": "jIc86FRC_wBw",
        "outputId": "6e82d5a7-0748-4793-811d-5ae43ce2173a",
        "colab": {
          "base_uri": "https://localhost:8080/",
          "height": 364
        }
      },
      "execution_count": 36,
      "outputs": [
        {
          "output_type": "execute_result",
          "data": {
            "text/plain": [
              "          price  minimum_nights  number_of_reviews  reviews_per_month  \\\n",
              "count  0.009786        0.009786           0.009786       8.390000e-03   \n",
              "mean   0.024393        0.000003           0.000032       1.154415e-06   \n",
              "std    0.053112        0.000013           0.000053       1.361996e-06   \n",
              "min    0.000000        0.000001           0.000000       2.000000e-08   \n",
              "25%    0.010000        0.000001           0.000002       3.700000e-07   \n",
              "50%    0.015864        0.000001           0.000011       8.200000e-07   \n",
              "75%    0.026614        0.000002           0.000040       1.470000e-06   \n",
              "max    2.146286        0.001000           0.001268       3.132000e-05   \n",
              "\n",
              "       calculated_host_listings_count  availability_365  \n",
              "count                        0.009786          0.009786  \n",
              "mean                         0.000014          0.000139  \n",
              "std                          0.000016          0.000106  \n",
              "min                          0.000001          0.000000  \n",
              "25%                          0.000004          0.000055  \n",
              "50%                          0.000008          0.000117  \n",
              "75%                          0.000018          0.000213  \n",
              "max                          0.000098          0.000365  "
            ],
            "text/html": [
              "\n",
              "  <div id=\"df-305abec3-95ab-4389-a696-a8a714aec25f\">\n",
              "    <div class=\"colab-df-container\">\n",
              "      <div>\n",
              "<style scoped>\n",
              "    .dataframe tbody tr th:only-of-type {\n",
              "        vertical-align: middle;\n",
              "    }\n",
              "\n",
              "    .dataframe tbody tr th {\n",
              "        vertical-align: top;\n",
              "    }\n",
              "\n",
              "    .dataframe thead th {\n",
              "        text-align: right;\n",
              "    }\n",
              "</style>\n",
              "<table border=\"1\" class=\"dataframe\">\n",
              "  <thead>\n",
              "    <tr style=\"text-align: right;\">\n",
              "      <th></th>\n",
              "      <th>price</th>\n",
              "      <th>minimum_nights</th>\n",
              "      <th>number_of_reviews</th>\n",
              "      <th>reviews_per_month</th>\n",
              "      <th>calculated_host_listings_count</th>\n",
              "      <th>availability_365</th>\n",
              "    </tr>\n",
              "  </thead>\n",
              "  <tbody>\n",
              "    <tr>\n",
              "      <th>count</th>\n",
              "      <td>0.009786</td>\n",
              "      <td>0.009786</td>\n",
              "      <td>0.009786</td>\n",
              "      <td>8.390000e-03</td>\n",
              "      <td>0.009786</td>\n",
              "      <td>0.009786</td>\n",
              "    </tr>\n",
              "    <tr>\n",
              "      <th>mean</th>\n",
              "      <td>0.024393</td>\n",
              "      <td>0.000003</td>\n",
              "      <td>0.000032</td>\n",
              "      <td>1.154415e-06</td>\n",
              "      <td>0.000014</td>\n",
              "      <td>0.000139</td>\n",
              "    </tr>\n",
              "    <tr>\n",
              "      <th>std</th>\n",
              "      <td>0.053112</td>\n",
              "      <td>0.000013</td>\n",
              "      <td>0.000053</td>\n",
              "      <td>1.361996e-06</td>\n",
              "      <td>0.000016</td>\n",
              "      <td>0.000106</td>\n",
              "    </tr>\n",
              "    <tr>\n",
              "      <th>min</th>\n",
              "      <td>0.000000</td>\n",
              "      <td>0.000001</td>\n",
              "      <td>0.000000</td>\n",
              "      <td>2.000000e-08</td>\n",
              "      <td>0.000001</td>\n",
              "      <td>0.000000</td>\n",
              "    </tr>\n",
              "    <tr>\n",
              "      <th>25%</th>\n",
              "      <td>0.010000</td>\n",
              "      <td>0.000001</td>\n",
              "      <td>0.000002</td>\n",
              "      <td>3.700000e-07</td>\n",
              "      <td>0.000004</td>\n",
              "      <td>0.000055</td>\n",
              "    </tr>\n",
              "    <tr>\n",
              "      <th>50%</th>\n",
              "      <td>0.015864</td>\n",
              "      <td>0.000001</td>\n",
              "      <td>0.000011</td>\n",
              "      <td>8.200000e-07</td>\n",
              "      <td>0.000008</td>\n",
              "      <td>0.000117</td>\n",
              "    </tr>\n",
              "    <tr>\n",
              "      <th>75%</th>\n",
              "      <td>0.026614</td>\n",
              "      <td>0.000002</td>\n",
              "      <td>0.000040</td>\n",
              "      <td>1.470000e-06</td>\n",
              "      <td>0.000018</td>\n",
              "      <td>0.000213</td>\n",
              "    </tr>\n",
              "    <tr>\n",
              "      <th>max</th>\n",
              "      <td>2.146286</td>\n",
              "      <td>0.001000</td>\n",
              "      <td>0.001268</td>\n",
              "      <td>3.132000e-05</td>\n",
              "      <td>0.000098</td>\n",
              "      <td>0.000365</td>\n",
              "    </tr>\n",
              "  </tbody>\n",
              "</table>\n",
              "</div>\n",
              "      <button class=\"colab-df-convert\" onclick=\"convertToInteractive('df-305abec3-95ab-4389-a696-a8a714aec25f')\"\n",
              "              title=\"Convert this dataframe to an interactive table.\"\n",
              "              style=\"display:none;\">\n",
              "        \n",
              "  <svg xmlns=\"http://www.w3.org/2000/svg\" height=\"24px\"viewBox=\"0 0 24 24\"\n",
              "       width=\"24px\">\n",
              "    <path d=\"M0 0h24v24H0V0z\" fill=\"none\"/>\n",
              "    <path d=\"M18.56 5.44l.94 2.06.94-2.06 2.06-.94-2.06-.94-.94-2.06-.94 2.06-2.06.94zm-11 1L8.5 8.5l.94-2.06 2.06-.94-2.06-.94L8.5 2.5l-.94 2.06-2.06.94zm10 10l.94 2.06.94-2.06 2.06-.94-2.06-.94-.94-2.06-.94 2.06-2.06.94z\"/><path d=\"M17.41 7.96l-1.37-1.37c-.4-.4-.92-.59-1.43-.59-.52 0-1.04.2-1.43.59L10.3 9.45l-7.72 7.72c-.78.78-.78 2.05 0 2.83L4 21.41c.39.39.9.59 1.41.59.51 0 1.02-.2 1.41-.59l7.78-7.78 2.81-2.81c.8-.78.8-2.07 0-2.86zM5.41 20L4 18.59l7.72-7.72 1.47 1.35L5.41 20z\"/>\n",
              "  </svg>\n",
              "      </button>\n",
              "      \n",
              "  <style>\n",
              "    .colab-df-container {\n",
              "      display:flex;\n",
              "      flex-wrap:wrap;\n",
              "      gap: 12px;\n",
              "    }\n",
              "\n",
              "    .colab-df-convert {\n",
              "      background-color: #E8F0FE;\n",
              "      border: none;\n",
              "      border-radius: 50%;\n",
              "      cursor: pointer;\n",
              "      display: none;\n",
              "      fill: #1967D2;\n",
              "      height: 32px;\n",
              "      padding: 0 0 0 0;\n",
              "      width: 32px;\n",
              "    }\n",
              "\n",
              "    .colab-df-convert:hover {\n",
              "      background-color: #E2EBFA;\n",
              "      box-shadow: 0px 1px 2px rgba(60, 64, 67, 0.3), 0px 1px 3px 1px rgba(60, 64, 67, 0.15);\n",
              "      fill: #174EA6;\n",
              "    }\n",
              "\n",
              "    [theme=dark] .colab-df-convert {\n",
              "      background-color: #3B4455;\n",
              "      fill: #D2E3FC;\n",
              "    }\n",
              "\n",
              "    [theme=dark] .colab-df-convert:hover {\n",
              "      background-color: #434B5C;\n",
              "      box-shadow: 0px 1px 3px 1px rgba(0, 0, 0, 0.15);\n",
              "      filter: drop-shadow(0px 1px 2px rgba(0, 0, 0, 0.3));\n",
              "      fill: #FFFFFF;\n",
              "    }\n",
              "  </style>\n",
              "\n",
              "      <script>\n",
              "        const buttonEl =\n",
              "          document.querySelector('#df-305abec3-95ab-4389-a696-a8a714aec25f button.colab-df-convert');\n",
              "        buttonEl.style.display =\n",
              "          google.colab.kernel.accessAllowed ? 'block' : 'none';\n",
              "\n",
              "        async function convertToInteractive(key) {\n",
              "          const element = document.querySelector('#df-305abec3-95ab-4389-a696-a8a714aec25f');\n",
              "          const dataTable =\n",
              "            await google.colab.kernel.invokeFunction('convertToInteractive',\n",
              "                                                     [key], {});\n",
              "          if (!dataTable) return;\n",
              "\n",
              "          const docLinkHtml = 'Like what you see? Visit the ' +\n",
              "            '<a target=\"_blank\" href=https://colab.research.google.com/notebooks/data_table.ipynb>data table notebook</a>'\n",
              "            + ' to learn more about interactive tables.';\n",
              "          element.innerHTML = '';\n",
              "          dataTable['output_type'] = 'display_data';\n",
              "          await google.colab.output.renderOutput(dataTable, element);\n",
              "          const docLink = document.createElement('div');\n",
              "          docLink.innerHTML = docLinkHtml;\n",
              "          element.appendChild(docLink);\n",
              "        }\n",
              "      </script>\n",
              "    </div>\n",
              "  </div>\n",
              "  "
            ]
          },
          "metadata": {},
          "execution_count": 36
        }
      ]
    },
    {
      "cell_type": "markdown",
      "source": [
        "### Olhando o resumo estatístico acima, observamos os segeuintes detalhes\n",
        "* Os números possuem possuem uma alta ordem de grandeza (10^4). Isso se dar pelo falor de o japão utilizar numerais multiplo de 1000 e 10000. por isso foi dividido por 10000\n",
        "* A variável `price` possui 75% do valor abaixo de 0.026614 (lÊ-se 26614), porém seu valor máximo é 2.146286 (lê-se 2.146.286).\n",
        "* A quantidade mínima de noites (`minimum_nights`) está acima de 365 dias no ano.\n"
      ],
      "metadata": {
        "id": "26xJFkPxoiLT"
      }
    },
    {
      "cell_type": "code",
      "source": [
        "# plot de gráfico para noites mínimas \n",
        "df.minimum_nights.plot(kind=\"box\",vert = False)\n",
        "print(\"quantidade de noites mínimas acima de 30 : \", len(df[df.minimum_nights > 30]))\n",
        "print(\"porcentagem : \", len(df[df.minimum_nights > 30])/df.shape[0])"
      ],
      "metadata": {
        "id": "jJffaxm6jyRI",
        "outputId": "50d692cc-3574-4c04-f2e9-305e61d3cb98",
        "colab": {
          "base_uri": "https://localhost:8080/",
          "height": 300
        }
      },
      "execution_count": 17,
      "outputs": [
        {
          "output_type": "stream",
          "name": "stdout",
          "text": [
            "quantidade de noites mínimas acima de 30 :  32\n",
            "porcentagem :  0.0032699775189045576\n"
          ]
        },
        {
          "output_type": "display_data",
          "data": {
            "text/plain": [
              "<Figure size 432x288 with 1 Axes>"
            ],
            "image/png": "[encoded data removed]"
          },
          "metadata": {
            "needs_background": "light"
          }
        }
      ]
    },
    {
      "cell_type": "code",
      "source": [
        "#plot de grafico de preço maior que \n",
        "df.price.plot(kind=\"box\", vert = False)\n",
        "print (\"Quantidade de preços anormais\", len(df[df.price>56614]))\n",
        "print (\"porcentagem dos dados\",len(df[df.price > 56614])/df.shape[0])\n"
      ],
      "metadata": {
        "id": "pUD-grlfmt-V",
        "outputId": "b9e5c48f-17fa-4824-8864-ff04c5dc8b70",
        "colab": {
          "base_uri": "https://localhost:8080/",
          "height": 313
        }
      },
      "execution_count": 40,
      "outputs": [
        {
          "output_type": "stream",
          "name": "stdout",
          "text": [
            "Quantidade de preços anormais 486\n",
            "porcentagem dos dados 0.04966278356836297\n"
          ]
        },
        {
          "output_type": "display_data",
          "data": {
            "text/plain": [
              "<Figure size 432x288 with 1 Axes>"
            ],
            "image/png": "[encoded data removed]"
          },
          "metadata": {
            "needs_background": "light"
          }
        }
      ]
    },
    {
      "cell_type": "markdown",
      "source": [
        "### Plotar histogramas sem ***outliers***\n",
        "\n",
        "Já que identificamos outliers nas variáveis price e minimum_nights, vamos agora limpar o DataFrame delas e plotar novamente o histograma."
      ],
      "metadata": {
        "id": "2RB0w_Drth-A"
      }
    },
    {
      "cell_type": "code",
      "source": [
        "# remover os outliers e criar novo dataframe\n",
        "df_clean = df.copy()\n",
        "df_clean.drop(df_clean[df_clean.minimum_nights > 30].index)\n",
        "df_clean.drop(df_clean[df_clean.price >56614] .index)\n",
        "\n",
        "# remover `neighbourhood_group`, pois está vazio\n",
        "df_clean.drop(\"neighbourhood_group\", axis =1, inplace = True)\n",
        "\n",
        "#plot do dataframe\n",
        "\n",
        "df_clean.hist(bins=15, figsize=(15,10))"
      ],
      "metadata": {
        "id": "uumHmXa3vHti",
        "outputId": "36c95817-407d-44a2-8a77-794002306181",
        "colab": {
          "base_uri": "https://localhost:8080/",
          "height": 814
        }
      },
      "execution_count": 51,
      "outputs": [
        {
          "output_type": "execute_result",
          "data": {
            "text/plain": [
              "array([[<matplotlib.axes._subplots.AxesSubplot object at 0x7f3eeeb5a0d0>,\n",
              "        <matplotlib.axes._subplots.AxesSubplot object at 0x7f3eeeb11b80>,\n",
              "        <matplotlib.axes._subplots.AxesSubplot object at 0x7f3eeeafdaf0>],\n",
              "       [<matplotlib.axes._subplots.AxesSubplot object at 0x7f3eeeab7280>,\n",
              "        <matplotlib.axes._subplots.AxesSubplot object at 0x7f3eeea5e9a0>,\n",
              "        <matplotlib.axes._subplots.AxesSubplot object at 0x7f3eeea08160>],\n",
              "       [<matplotlib.axes._subplots.AxesSubplot object at 0x7f3eeea15130>,\n",
              "        <matplotlib.axes._subplots.AxesSubplot object at 0x7f3eeea3e8b0>,\n",
              "        <matplotlib.axes._subplots.AxesSubplot object at 0x7f3eee99f6a0>],\n",
              "       [<matplotlib.axes._subplots.AxesSubplot object at 0x7f3eee948dc0>,\n",
              "        <matplotlib.axes._subplots.AxesSubplot object at 0x7f3eee8ff520>,\n",
              "        <matplotlib.axes._subplots.AxesSubplot object at 0x7f3eee929b80>]],\n",
              "      dtype=object)"
            ]
          },
          "metadata": {},
          "execution_count": 51
        },
        {
          "output_type": "display_data",
          "data": {
            "text/plain": [
              "<Figure size 1080x720 with 12 Axes>"
            ],
            "image/png": "[encoded data removed]"
          },
          "metadata": {
            "needs_background": "light"
          }
        }
      ]
    },
    {
      "cell_type": "markdown",
      "metadata": {
        "id": "7x4aw1j5wNmn"
      },
      "source": [
        "### **Q4. Qual a média dos preços de aluguel?**"
      ]
    },
    {
      "cell_type": "code",
      "metadata": {
        "id": "ff-8gUahLk-C",
        "colab": {
          "base_uri": "https://localhost:8080/"
        },
        "outputId": "8b3e955d-0aec-47c0-c88f-c767edf43776"
      },
      "source": [
        "# ver a média da coluna `price``\n",
        "df.price.mean()\n"
      ],
      "execution_count": 42,
      "outputs": [
        {
          "output_type": "execute_result",
          "data": {
            "text/plain": [
              "24393.107398324137"
            ]
          },
          "metadata": {},
          "execution_count": 42
        }
      ]
    },
    {
      "cell_type": "markdown",
      "metadata": {
        "id": "IXn2oIo5qx-w"
      },
      "source": [
        "### **Q4. Qual a correlação existente entre as variáveis**"
      ]
    },
    {
      "cell_type": "code",
      "source": [
        "df.describe()"
      ],
      "metadata": {
        "id": "lvugm9se-A-9",
        "outputId": "d21ee4e4-473f-42ce-dabd-263f3fe00ab5",
        "colab": {
          "base_uri": "https://localhost:8080/",
          "height": 364
        }
      },
      "execution_count": 3,
      "outputs": [
        {
          "output_type": "execute_result",
          "data": {
            "text/plain": [
              "                 id       host_id  neighbourhood_group     latitude  \\\n",
              "count  9.786000e+03  9.786000e+03                  0.0  9786.000000   \n",
              "mean   1.226844e+17  2.214446e+08                  NaN    35.698058   \n",
              "std    2.674419e+17  1.352475e+08                  NaN     0.039771   \n",
              "min    1.976770e+05  3.222340e+05                  NaN    35.540630   \n",
              "25%    3.202411e+07  9.430273e+07                  NaN    35.688493   \n",
              "50%    4.205199e+07  2.281334e+08                  NaN    35.703500   \n",
              "75%    5.169673e+07  3.258108e+08                  NaN    35.719083   \n",
              "max    7.918254e+17  4.929537e+08                  NaN    35.830640   \n",
              "\n",
              "         longitude         price  minimum_nights  number_of_reviews  \\\n",
              "count  9786.000000  9.786000e+03     9786.000000        9786.000000   \n",
              "mean    139.737664  2.439311e+04        2.627325          32.150623   \n",
              "std       0.072689  5.311154e+04       13.448947          53.032852   \n",
              "min     139.157320  0.000000e+00        1.000000           0.000000   \n",
              "25%     139.700832  1.000000e+04        1.000000           2.000000   \n",
              "50%     139.732675  1.586400e+04        1.000000          11.000000   \n",
              "75%     139.789017  2.661400e+04        2.000000          40.000000   \n",
              "max     139.911580  2.146286e+06     1000.000000        1268.000000   \n",
              "\n",
              "       reviews_per_month  calculated_host_listings_count  availability_365  \\\n",
              "count        8390.000000                     9786.000000       9786.000000   \n",
              "mean            1.154415                       13.837932        138.605866   \n",
              "std             1.361996                       16.307022        106.447619   \n",
              "min             0.020000                        1.000000          0.000000   \n",
              "25%             0.370000                        4.000000         55.000000   \n",
              "50%             0.820000                        8.000000        117.000000   \n",
              "75%             1.470000                       18.000000        213.000000   \n",
              "max            31.320000                       98.000000        365.000000   \n",
              "\n",
              "       number_of_reviews_ltm  \n",
              "count            9786.000000  \n",
              "mean                7.963008  \n",
              "std                15.272917  \n",
              "min                 0.000000  \n",
              "25%                 0.000000  \n",
              "50%                 3.000000  \n",
              "75%                 9.000000  \n",
              "max               462.000000  "
            ],
            "text/html": [
              "\n",
              "  <div id=\"df-251e9723-a257-4c5c-b372-cf3b9f7e1d77\">\n",
              "    <div class=\"colab-df-container\">\n",
              "      <div>\n",
              "<style scoped>\n",
              "    .dataframe tbody tr th:only-of-type {\n",
              "        vertical-align: middle;\n",
              "    }\n",
              "\n",
              "    .dataframe tbody tr th {\n",
              "        vertical-align: top;\n",
              "    }\n",
              "\n",
              "    .dataframe thead th {\n",
              "        text-align: right;\n",
              "    }\n",
              "</style>\n",
              "<table border=\"1\" class=\"dataframe\">\n",
              "  <thead>\n",
              "    <tr style=\"text-align: right;\">\n",
              "      <th></th>\n",
              "      <th>id</th>\n",
              "      <th>host_id</th>\n",
              "      <th>neighbourhood_group</th>\n",
              "      <th>latitude</th>\n",
              "      <th>longitude</th>\n",
              "      <th>price</th>\n",
              "      <th>minimum_nights</th>\n",
              "      <th>number_of_reviews</th>\n",
              "      <th>reviews_per_month</th>\n",
              "      <th>calculated_host_listings_count</th>\n",
              "      <th>availability_365</th>\n",
              "      <th>number_of_reviews_ltm</th>\n",
              "    </tr>\n",
              "  </thead>\n",
              "  <tbody>\n",
              "    <tr>\n",
              "      <th>count</th>\n",
              "      <td>9.786000e+03</td>\n",
              "      <td>9.786000e+03</td>\n",
              "      <td>0.0</td>\n",
              "      <td>9786.000000</td>\n",
              "      <td>9786.000000</td>\n",
              "      <td>9.786000e+03</td>\n",
              "      <td>9786.000000</td>\n",
              "      <td>9786.000000</td>\n",
              "      <td>8390.000000</td>\n",
              "      <td>9786.000000</td>\n",
              "      <td>9786.000000</td>\n",
              "      <td>9786.000000</td>\n",
              "    </tr>\n",
              "    <tr>\n",
              "      <th>mean</th>\n",
              "      <td>1.226844e+17</td>\n",
              "      <td>2.214446e+08</td>\n",
              "      <td>NaN</td>\n",
              "      <td>35.698058</td>\n",
              "      <td>139.737664</td>\n",
              "      <td>2.439311e+04</td>\n",
              "      <td>2.627325</td>\n",
              "      <td>32.150623</td>\n",
              "      <td>1.154415</td>\n",
              "      <td>13.837932</td>\n",
              "      <td>138.605866</td>\n",
              "      <td>7.963008</td>\n",
              "    </tr>\n",
              "    <tr>\n",
              "      <th>std</th>\n",
              "      <td>2.674419e+17</td>\n",
              "      <td>1.352475e+08</td>\n",
              "      <td>NaN</td>\n",
              "      <td>0.039771</td>\n",
              "      <td>0.072689</td>\n",
              "      <td>5.311154e+04</td>\n",
              "      <td>13.448947</td>\n",
              "      <td>53.032852</td>\n",
              "      <td>1.361996</td>\n",
              "      <td>16.307022</td>\n",
              "      <td>106.447619</td>\n",
              "      <td>15.272917</td>\n",
              "    </tr>\n",
              "    <tr>\n",
              "      <th>min</th>\n",
              "      <td>1.976770e+05</td>\n",
              "      <td>3.222340e+05</td>\n",
              "      <td>NaN</td>\n",
              "      <td>35.540630</td>\n",
              "      <td>139.157320</td>\n",
              "      <td>0.000000e+00</td>\n",
              "      <td>1.000000</td>\n",
              "      <td>0.000000</td>\n",
              "      <td>0.020000</td>\n",
              "      <td>1.000000</td>\n",
              "      <td>0.000000</td>\n",
              "      <td>0.000000</td>\n",
              "    </tr>\n",
              "    <tr>\n",
              "      <th>25%</th>\n",
              "      <td>3.202411e+07</td>\n",
              "      <td>9.430273e+07</td>\n",
              "      <td>NaN</td>\n",
              "      <td>35.688493</td>\n",
              "      <td>139.700832</td>\n",
              "      <td>1.000000e+04</td>\n",
              "      <td>1.000000</td>\n",
              "      <td>2.000000</td>\n",
              "      <td>0.370000</td>\n",
              "      <td>4.000000</td>\n",
              "      <td>55.000000</td>\n",
              "      <td>0.000000</td>\n",
              "    </tr>\n",
              "    <tr>\n",
              "      <th>50%</th>\n",
              "      <td>4.205199e+07</td>\n",
              "      <td>2.281334e+08</td>\n",
              "      <td>NaN</td>\n",
              "      <td>35.703500</td>\n",
              "      <td>139.732675</td>\n",
              "      <td>1.586400e+04</td>\n",
              "      <td>1.000000</td>\n",
              "      <td>11.000000</td>\n",
              "      <td>0.820000</td>\n",
              "      <td>8.000000</td>\n",
              "      <td>117.000000</td>\n",
              "      <td>3.000000</td>\n",
              "    </tr>\n",
              "    <tr>\n",
              "      <th>75%</th>\n",
              "      <td>5.169673e+07</td>\n",
              "      <td>3.258108e+08</td>\n",
              "      <td>NaN</td>\n",
              "      <td>35.719083</td>\n",
              "      <td>139.789017</td>\n",
              "      <td>2.661400e+04</td>\n",
              "      <td>2.000000</td>\n",
              "      <td>40.000000</td>\n",
              "      <td>1.470000</td>\n",
              "      <td>18.000000</td>\n",
              "      <td>213.000000</td>\n",
              "      <td>9.000000</td>\n",
              "    </tr>\n",
              "    <tr>\n",
              "      <th>max</th>\n",
              "      <td>7.918254e+17</td>\n",
              "      <td>4.929537e+08</td>\n",
              "      <td>NaN</td>\n",
              "      <td>35.830640</td>\n",
              "      <td>139.911580</td>\n",
              "      <td>2.146286e+06</td>\n",
              "      <td>1000.000000</td>\n",
              "      <td>1268.000000</td>\n",
              "      <td>31.320000</td>\n",
              "      <td>98.000000</td>\n",
              "      <td>365.000000</td>\n",
              "      <td>462.000000</td>\n",
              "    </tr>\n",
              "  </tbody>\n",
              "</table>\n",
              "</div>\n",
              "      <button class=\"colab-df-convert\" onclick=\"convertToInteractive('df-251e9723-a257-4c5c-b372-cf3b9f7e1d77')\"\n",
              "              title=\"Convert this dataframe to an interactive table.\"\n",
              "              style=\"display:none;\">\n",
              "        \n",
              "  <svg xmlns=\"http://www.w3.org/2000/svg\" height=\"24px\"viewBox=\"0 0 24 24\"\n",
              "       width=\"24px\">\n",
              "    <path d=\"M0 0h24v24H0V0z\" fill=\"none\"/>\n",
              "    <path d=\"M18.56 5.44l.94 2.06.94-2.06 2.06-.94-2.06-.94-.94-2.06-.94 2.06-2.06.94zm-11 1L8.5 8.5l.94-2.06 2.06-.94-2.06-.94L8.5 2.5l-.94 2.06-2.06.94zm10 10l.94 2.06.94-2.06 2.06-.94-2.06-.94-.94-2.06-.94 2.06-2.06.94z\"/><path d=\"M17.41 7.96l-1.37-1.37c-.4-.4-.92-.59-1.43-.59-.52 0-1.04.2-1.43.59L10.3 9.45l-7.72 7.72c-.78.78-.78 2.05 0 2.83L4 21.41c.39.39.9.59 1.41.59.51 0 1.02-.2 1.41-.59l7.78-7.78 2.81-2.81c.8-.78.8-2.07 0-2.86zM5.41 20L4 18.59l7.72-7.72 1.47 1.35L5.41 20z\"/>\n",
              "  </svg>\n",
              "      </button>\n",
              "      \n",
              "  <style>\n",
              "    .colab-df-container {\n",
              "      display:flex;\n",
              "      flex-wrap:wrap;\n",
              "      gap: 12px;\n",
              "    }\n",
              "\n",
              "    .colab-df-convert {\n",
              "      background-color: #E8F0FE;\n",
              "      border: none;\n",
              "      border-radius: 50%;\n",
              "      cursor: pointer;\n",
              "      display: none;\n",
              "      fill: #1967D2;\n",
              "      height: 32px;\n",
              "      padding: 0 0 0 0;\n",
              "      width: 32px;\n",
              "    }\n",
              "\n",
              "    .colab-df-convert:hover {\n",
              "      background-color: #E2EBFA;\n",
              "      box-shadow: 0px 1px 2px rgba(60, 64, 67, 0.3), 0px 1px 3px 1px rgba(60, 64, 67, 0.15);\n",
              "      fill: #174EA6;\n",
              "    }\n",
              "\n",
              "    [theme=dark] .colab-df-convert {\n",
              "      background-color: #3B4455;\n",
              "      fill: #D2E3FC;\n",
              "    }\n",
              "\n",
              "    [theme=dark] .colab-df-convert:hover {\n",
              "      background-color: #434B5C;\n",
              "      box-shadow: 0px 1px 3px 1px rgba(0, 0, 0, 0.15);\n",
              "      filter: drop-shadow(0px 1px 2px rgba(0, 0, 0, 0.3));\n",
              "      fill: #FFFFFF;\n",
              "    }\n",
              "  </style>\n",
              "\n",
              "      <script>\n",
              "        const buttonEl =\n",
              "          document.querySelector('#df-251e9723-a257-4c5c-b372-cf3b9f7e1d77 button.colab-df-convert');\n",
              "        buttonEl.style.display =\n",
              "          google.colab.kernel.accessAllowed ? 'block' : 'none';\n",
              "\n",
              "        async function convertToInteractive(key) {\n",
              "          const element = document.querySelector('#df-251e9723-a257-4c5c-b372-cf3b9f7e1d77');\n",
              "          const dataTable =\n",
              "            await google.colab.kernel.invokeFunction('convertToInteractive',\n",
              "                                                     [key], {});\n",
              "          if (!dataTable) return;\n",
              "\n",
              "          const docLinkHtml = 'Like what you see? Visit the ' +\n",
              "            '<a target=\"_blank\" href=https://colab.research.google.com/notebooks/data_table.ipynb>data table notebook</a>'\n",
              "            + ' to learn more about interactive tables.';\n",
              "          element.innerHTML = '';\n",
              "          dataTable['output_type'] = 'display_data';\n",
              "          await google.colab.output.renderOutput(dataTable, element);\n",
              "          const docLink = document.createElement('div');\n",
              "          docLink.innerHTML = docLinkHtml;\n",
              "          element.appendChild(docLink);\n",
              "        }\n",
              "      </script>\n",
              "    </div>\n",
              "  </div>\n",
              "  "
            ]
          },
          "metadata": {},
          "execution_count": 3
        }
      ]
    },
    {
      "cell_type": "code",
      "metadata": {
        "id": "x2ayzBajqxyd",
        "colab": {
          "base_uri": "https://localhost:8080/",
          "height": 301
        },
        "outputId": "ae4180e6-c94f-472f-c815-6a1c9f740165"
      },
      "source": [
        "# criar uma matriz de correlação\n",
        "\n",
        "# mostrar a matriz de correlação\n",
        "\n",
        "df_corr = df[['price', 'minimum_nights', 'number_of_reviews', 'reviews_per_month',\n",
        "    'calculated_host_listings_count', 'availability_365']].corr()\n",
        "\n",
        "display(df_corr)\n"
      ],
      "execution_count": 78,
      "outputs": [
        {
          "output_type": "display_data",
          "data": {
            "text/plain": [
              "                                   price  minimum_nights  number_of_reviews  \\\n",
              "price                           1.000000        0.137627          -0.008581   \n",
              "minimum_nights                  0.137627        1.000000          -0.024135   \n",
              "number_of_reviews              -0.008581       -0.024135           1.000000   \n",
              "reviews_per_month               0.013875       -0.043569           0.645269   \n",
              "calculated_host_listings_count -0.034078       -0.030314          -0.173787   \n",
              "availability_365                0.056904        0.010664          -0.056842   \n",
              "\n",
              "                                reviews_per_month  \\\n",
              "price                                    0.013875   \n",
              "minimum_nights                          -0.043569   \n",
              "number_of_reviews                        0.645269   \n",
              "reviews_per_month                        1.000000   \n",
              "calculated_host_listings_count          -0.084844   \n",
              "availability_365                         0.029030   \n",
              "\n",
              "                                calculated_host_listings_count  \\\n",
              "price                                                -0.034078   \n",
              "minimum_nights                                       -0.030314   \n",
              "number_of_reviews                                    -0.173787   \n",
              "reviews_per_month                                    -0.084844   \n",
              "calculated_host_listings_count                        1.000000   \n",
              "availability_365                                      0.059200   \n",
              "\n",
              "                                availability_365  \n",
              "price                                   0.056904  \n",
              "minimum_nights                          0.010664  \n",
              "number_of_reviews                      -0.056842  \n",
              "reviews_per_month                       0.029030  \n",
              "calculated_host_listings_count          0.059200  \n",
              "availability_365                        1.000000  "
            ],
            "text/html": [
              "\n",
              "  <div id=\"df-c63fa7a3-8d7a-4beb-8a19-4a7ae6f5f2e4\">\n",
              "    <div class=\"colab-df-container\">\n",
              "      <div>\n",
              "<style scoped>\n",
              "    .dataframe tbody tr th:only-of-type {\n",
              "        vertical-align: middle;\n",
              "    }\n",
              "\n",
              "    .dataframe tbody tr th {\n",
              "        vertical-align: top;\n",
              "    }\n",
              "\n",
              "    .dataframe thead th {\n",
              "        text-align: right;\n",
              "    }\n",
              "</style>\n",
              "<table border=\"1\" class=\"dataframe\">\n",
              "  <thead>\n",
              "    <tr style=\"text-align: right;\">\n",
              "      <th></th>\n",
              "      <th>price</th>\n",
              "      <th>minimum_nights</th>\n",
              "      <th>number_of_reviews</th>\n",
              "      <th>reviews_per_month</th>\n",
              "      <th>calculated_host_listings_count</th>\n",
              "      <th>availability_365</th>\n",
              "    </tr>\n",
              "  </thead>\n",
              "  <tbody>\n",
              "    <tr>\n",
              "      <th>price</th>\n",
              "      <td>1.000000</td>\n",
              "      <td>0.137627</td>\n",
              "      <td>-0.008581</td>\n",
              "      <td>0.013875</td>\n",
              "      <td>-0.034078</td>\n",
              "      <td>0.056904</td>\n",
              "    </tr>\n",
              "    <tr>\n",
              "      <th>minimum_nights</th>\n",
              "      <td>0.137627</td>\n",
              "      <td>1.000000</td>\n",
              "      <td>-0.024135</td>\n",
              "      <td>-0.043569</td>\n",
              "      <td>-0.030314</td>\n",
              "      <td>0.010664</td>\n",
              "    </tr>\n",
              "    <tr>\n",
              "      <th>number_of_reviews</th>\n",
              "      <td>-0.008581</td>\n",
              "      <td>-0.024135</td>\n",
              "      <td>1.000000</td>\n",
              "      <td>0.645269</td>\n",
              "      <td>-0.173787</td>\n",
              "      <td>-0.056842</td>\n",
              "    </tr>\n",
              "    <tr>\n",
              "      <th>reviews_per_month</th>\n",
              "      <td>0.013875</td>\n",
              "      <td>-0.043569</td>\n",
              "      <td>0.645269</td>\n",
              "      <td>1.000000</td>\n",
              "      <td>-0.084844</td>\n",
              "      <td>0.029030</td>\n",
              "    </tr>\n",
              "    <tr>\n",
              "      <th>calculated_host_listings_count</th>\n",
              "      <td>-0.034078</td>\n",
              "      <td>-0.030314</td>\n",
              "      <td>-0.173787</td>\n",
              "      <td>-0.084844</td>\n",
              "      <td>1.000000</td>\n",
              "      <td>0.059200</td>\n",
              "    </tr>\n",
              "    <tr>\n",
              "      <th>availability_365</th>\n",
              "      <td>0.056904</td>\n",
              "      <td>0.010664</td>\n",
              "      <td>-0.056842</td>\n",
              "      <td>0.029030</td>\n",
              "      <td>0.059200</td>\n",
              "      <td>1.000000</td>\n",
              "    </tr>\n",
              "  </tbody>\n",
              "</table>\n",
              "</div>\n",
              "      <button class=\"colab-df-convert\" onclick=\"convertToInteractive('df-c63fa7a3-8d7a-4beb-8a19-4a7ae6f5f2e4')\"\n",
              "              title=\"Convert this dataframe to an interactive table.\"\n",
              "              style=\"display:none;\">\n",
              "        \n",
              "  <svg xmlns=\"http://www.w3.org/2000/svg\" height=\"24px\"viewBox=\"0 0 24 24\"\n",
              "       width=\"24px\">\n",
              "    <path d=\"M0 0h24v24H0V0z\" fill=\"none\"/>\n",
              "    <path d=\"M18.56 5.44l.94 2.06.94-2.06 2.06-.94-2.06-.94-.94-2.06-.94 2.06-2.06.94zm-11 1L8.5 8.5l.94-2.06 2.06-.94-2.06-.94L8.5 2.5l-.94 2.06-2.06.94zm10 10l.94 2.06.94-2.06 2.06-.94-2.06-.94-.94-2.06-.94 2.06-2.06.94z\"/><path d=\"M17.41 7.96l-1.37-1.37c-.4-.4-.92-.59-1.43-.59-.52 0-1.04.2-1.43.59L10.3 9.45l-7.72 7.72c-.78.78-.78 2.05 0 2.83L4 21.41c.39.39.9.59 1.41.59.51 0 1.02-.2 1.41-.59l7.78-7.78 2.81-2.81c.8-.78.8-2.07 0-2.86zM5.41 20L4 18.59l7.72-7.72 1.47 1.35L5.41 20z\"/>\n",
              "  </svg>\n",
              "      </button>\n",
              "      \n",
              "  <style>\n",
              "    .colab-df-container {\n",
              "      display:flex;\n",
              "      flex-wrap:wrap;\n",
              "      gap: 12px;\n",
              "    }\n",
              "\n",
              "    .colab-df-convert {\n",
              "      background-color: #E8F0FE;\n",
              "      border: none;\n",
              "      border-radius: 50%;\n",
              "      cursor: pointer;\n",
              "      display: none;\n",
              "      fill: #1967D2;\n",
              "      height: 32px;\n",
              "      padding: 0 0 0 0;\n",
              "      width: 32px;\n",
              "    }\n",
              "\n",
              "    .colab-df-convert:hover {\n",
              "      background-color: #E2EBFA;\n",
              "      box-shadow: 0px 1px 2px rgba(60, 64, 67, 0.3), 0px 1px 3px 1px rgba(60, 64, 67, 0.15);\n",
              "      fill: #174EA6;\n",
              "    }\n",
              "\n",
              "    [theme=dark] .colab-df-convert {\n",
              "      background-color: #3B4455;\n",
              "      fill: #D2E3FC;\n",
              "    }\n",
              "\n",
              "    [theme=dark] .colab-df-convert:hover {\n",
              "      background-color: #434B5C;\n",
              "      box-shadow: 0px 1px 3px 1px rgba(0, 0, 0, 0.15);\n",
              "      filter: drop-shadow(0px 1px 2px rgba(0, 0, 0, 0.3));\n",
              "      fill: #FFFFFF;\n",
              "    }\n",
              "  </style>\n",
              "\n",
              "      <script>\n",
              "        const buttonEl =\n",
              "          document.querySelector('#df-c63fa7a3-8d7a-4beb-8a19-4a7ae6f5f2e4 button.colab-df-convert');\n",
              "        buttonEl.style.display =\n",
              "          google.colab.kernel.accessAllowed ? 'block' : 'none';\n",
              "\n",
              "        async function convertToInteractive(key) {\n",
              "          const element = document.querySelector('#df-c63fa7a3-8d7a-4beb-8a19-4a7ae6f5f2e4');\n",
              "          const dataTable =\n",
              "            await google.colab.kernel.invokeFunction('convertToInteractive',\n",
              "                                                     [key], {});\n",
              "          if (!dataTable) return;\n",
              "\n",
              "          const docLinkHtml = 'Like what you see? Visit the ' +\n",
              "            '<a target=\"_blank\" href=https://colab.research.google.com/notebooks/data_table.ipynb>data table notebook</a>'\n",
              "            + ' to learn more about interactive tables.';\n",
              "          element.innerHTML = '';\n",
              "          dataTable['output_type'] = 'display_data';\n",
              "          await google.colab.output.renderOutput(dataTable, element);\n",
              "          const docLink = document.createElement('div');\n",
              "          docLink.innerHTML = docLinkHtml;\n",
              "          element.appendChild(docLink);\n",
              "        }\n",
              "      </script>\n",
              "    </div>\n",
              "  </div>\n",
              "  "
            ]
          },
          "metadata": {}
        }
      ]
    },
    {
      "cell_type": "code",
      "metadata": {
        "id": "91UujDr6ueqE",
        "colab": {
          "base_uri": "https://localhost:8080/",
          "height": 411
        },
        "outputId": "2bfdbdb6-313c-40b2-a878-e30489f90540"
      },
      "source": [
        "# plotar um heatmap a partir das correlações\n",
        "plot = sn.heatmap(df_corr, annot = True, fmt=\".1f\", linewidths=.8)\n",
        "\n"
      ],
      "execution_count": 79,
      "outputs": [
        {
          "output_type": "display_data",
          "data": {
            "text/plain": [
              "<Figure size 432x288 with 2 Axes>"
            ],
            "image/png": "[encoded data removed]"
          },
          "metadata": {
            "needs_background": "light"
          }
        }
      ]
    },
    {
      "cell_type": "markdown",
      "metadata": {
        "id": "7b6RMWpuHKN-"
      },
      "source": [
        "### **Q5. Qual o tipo de imóvel mais alugado no Airbnb?**"
      ]
    },
    {
      "cell_type": "code",
      "metadata": {
        "id": "ueLPNWvPHgfB",
        "colab": {
          "base_uri": "https://localhost:8080/"
        },
        "outputId": "e35cfed2-d90c-4584-a3a8-3d7f7073ee9b"
      },
      "source": [
        "# mostrar a quantidade de cada tipo de imóvel disponível\n",
        "df.room_type.value_counts()\n"
      ],
      "execution_count": 108,
      "outputs": [
        {
          "output_type": "execute_result",
          "data": {
            "text/plain": [
              "Entire home/apt    6852\n",
              "Private room       2368\n",
              "Hotel room          315\n",
              "Shared room         251\n",
              "Name: room_type, dtype: int64"
            ]
          },
          "metadata": {},
          "execution_count": 108
        }
      ]
    },
    {
      "cell_type": "code",
      "metadata": {
        "id": "EvwoO-XAHhIm",
        "colab": {
          "base_uri": "https://localhost:8080/"
        },
        "outputId": "b0ed034d-754c-4a16-fe87-bfffe01df24c"
      },
      "source": [
        "# mostrar a porcentagem de cada tipo de imóvel disponível\n",
        "df.room_type.value_counts()/df.shape[0]\n"
      ],
      "execution_count": 109,
      "outputs": [
        {
          "output_type": "execute_result",
          "data": {
            "text/plain": [
              "Entire home/apt    0.700184\n",
              "Private room       0.241978\n",
              "Hotel room         0.032189\n",
              "Shared room        0.025649\n",
              "Name: room_type, dtype: float64"
            ]
          },
          "metadata": {},
          "execution_count": 109
        }
      ]
    },
    {
      "cell_type": "markdown",
      "metadata": {
        "id": "MFa5NbnLJMcd"
      },
      "source": [
        "### **Q6. Qual a localidade mais cara do dataset?**\n",
        "\n"
      ]
    },
    {
      "cell_type": "code",
      "metadata": {
        "id": "MD_xa143JZpi",
        "colab": {
          "base_uri": "https://localhost:8080/"
        },
        "outputId": "ccfc4c30-ac97-4874-e8ad-dcdbabe63d16"
      },
      "source": [
        "# ver preços por bairros, na média\n",
        "df.groupby(\"neighbourhood\")[\"price\"].mean().sort_values(ascending=False)\n"
      ],
      "execution_count": 126,
      "outputs": [
        {
          "output_type": "execute_result",
          "data": {
            "text/plain": [
              "neighbourhood\n",
              "Okutama Machi          166000.000000\n",
              "Komae Shi              134444.714286\n",
              "Edogawa Ku              42146.256545\n",
              "Kodaira Shi             37105.750000\n",
              "Shinagawa Ku            34700.034483\n",
              "Chiyoda Ku              31782.208092\n",
              "Musashino Shi           31633.166667\n",
              "Katsushika Ku           31077.458678\n",
              "Arakawa Ku              28235.995000\n",
              "Nakano Ku               27436.357143\n",
              "Shinjuku Ku             27410.371098\n",
              "Minato Ku               27085.843666\n",
              "Itabashi Ku             25908.141844\n",
              "Toshima Ku              25363.011688\n",
              "Chuo Ku                 24161.172285\n",
              "Shibuya Ku              24099.793738\n",
              "Mitaka Shi              23386.222222\n",
              "Sumida Ku               22994.853705\n",
              "Taito Ku                22974.279846\n",
              "Ota Ku                  19284.554217\n",
              "Adachi Ku               17903.042553\n",
              "Meguro Ku               17628.288462\n",
              "Bunkyo Ku               17325.575000\n",
              "Suginami Ku             17230.425234\n",
              "Koto Ku                 17201.693548\n",
              "Hamura Shi              17165.500000\n",
              "Setagaya Ku             16946.800654\n",
              "Nishitokyo Shi          15796.166667\n",
              "Kita Ku                 15788.511719\n",
              "Higashimurayama Shi     15778.333333\n",
              "Chofu Shi               12030.461538\n",
              "Ome Shi                 11915.833333\n",
              "Hachioji Shi            11387.650000\n",
              "Koganei Shi             11177.600000\n",
              "Nerima Ku               11093.880000\n",
              "Tachikawa Shi           11047.800000\n",
              "Kokubunji Shi            9448.615385\n",
              "Akiruno Shi              7154.000000\n",
              "Machida Shi              6905.000000\n",
              "Hino Shi                 6212.777778\n",
              "Tama Shi                 5896.125000\n",
              "Fuchu Shi                5146.666667\n",
              "Akishima Shi             4550.000000\n",
              "Kunitachi Shi            4222.222222\n",
              "Fussa Shi                3200.000000\n",
              "Musashimurayama Shi      3000.000000\n",
              "Name: price, dtype: float64"
            ]
          },
          "metadata": {},
          "execution_count": 126
        }
      ]
    },
    {
      "cell_type": "code",
      "metadata": {
        "id": "UxVJqJ_3W59I",
        "colab": {
          "base_uri": "https://localhost:8080/",
          "height": 296
        },
        "outputId": "fff658c3-4f15-4ea0-d6df-adb908aa477f"
      },
      "source": [
        "# plotar os imóveis pela latitude-longitude\n",
        "df_clean.plot.scatter( x='longitude', y='latitude', alpha = 0.4)\n"
      ],
      "execution_count": 68,
      "outputs": [
        {
          "output_type": "execute_result",
          "data": {
            "text/plain": [
              "<matplotlib.axes._subplots.AxesSubplot at 0x7f3eedfd9070>"
            ]
          },
          "metadata": {},
          "execution_count": 68
        },
        {
          "output_type": "display_data",
          "data": {
            "text/plain": [
              "<Figure size 432x288 with 1 Axes>"
            ],
            "image/png": "[encoded data removed]"
          },
          "metadata": {
            "needs_background": "light"
          }
        }
      ]
    },
    {
      "cell_type": "markdown",
      "metadata": {
        "id": "vTneAMRUYvr1"
      },
      "source": [
        "### **Q7. Qual é a média do mínimo de noites para aluguel (minimum_nights)?**"
      ]
    },
    {
      "cell_type": "code",
      "metadata": {
        "id": "_VzNhrEgY82N"
      },
      "source": [
        "# ver a média da coluna `minimum_nights`\n",
        "df.minimum_nights.mean()"
      ],
      "execution_count": null,
      "outputs": []
    },
    {
      "cell_type": "markdown",
      "metadata": {
        "id": "GkvAg623RjoR"
      },
      "source": [
        "## Conclusões\n"
      ]
    },
    {
      "cell_type": "markdown",
      "metadata": {
        "id": "rbZ3Hsy9Ypw8"
      },
      "source": [
        "foi feita apenas uma análise superficial na base de dados do Airbnb, porém já se percebeu que existem *outliers* em algumas das variáveis.\n",
        "\n",
        "apesar de tokio ser uma das maiores cidades do planeta, o número de registros disponíveis no arquivo é relativamente pequeno se comparado com cidade menores, mas que possuem maior atração turística\n",
        "\n",
        "ao analisar os dados, podemos ver caracteres japoneses que, caso seja feita outro tipo de análise pois será dificil comparar escrita latina com japonesa\n",
        "\n",
        "os números são tratados com multiplos de mil, o que dificulta um pouco o entendimento de variaveis numéricas e que as vezes podem nos induzir a erros\n",
        "\n",
        "Por fim, lembra-se que este *dataset* é uma versão resumida, ideal apenas para uma abordagem inicial. Recomenda-se que seja usado, em uma próxima análise exploratória, o conjunto de dados completos, com 106 atributos disponíveis.\n"
      ]
    }
  ]
}